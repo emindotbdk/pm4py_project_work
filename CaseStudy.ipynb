{
 "cells": [
  {
   "cell_type": "markdown",
   "metadata": {},
   "source": [
    "# Case Study"
   ]
  },
  {
   "cell_type": "markdown",
   "metadata": {},
   "source": [
    "### Loading the data set"
   ]
  },
  {
   "cell_type": "code",
   "execution_count": null,
   "metadata": {},
   "outputs": [],
   "source": [
    "import pm4py\n",
    "\n",
    "print(\"Loading event log...\")\n",
    "sales_df = pm4py.read.read_xes(\"./data/BPI_Challenge_2019.xes\")\n",
    "\n",
    "filtered_sales_df = pm4py.filter_variants_top_k(sales_df, 5)"
   ]
  },
  {
   "cell_type": "markdown",
   "metadata": {},
   "source": [
    "### Discovering the process"
   ]
  },
  {
   "cell_type": "code",
   "execution_count": null,
   "metadata": {},
   "outputs": [],
   "source": [
    "from pm4py.objects.bpmn.layout import layouter\n",
    "\n",
    "bpmn = pm4py.discover_bpmn_inductive(filtered_sales_df, activity_key='concept:name', case_id_key='case:concept:name', timestamp_key='time:timestamp')\n",
    "bpmn_layouted = layouter.apply(bpmn)\n",
    "\n",
    "pm4py.view_bpmn(bpmn_layouted, format='png')"
   ]
  },
  {
   "cell_type": "markdown",
   "metadata": {},
   "source": [
    "### Loading the deviating event log"
   ]
  },
  {
   "cell_type": "code",
   "execution_count": null,
   "metadata": {},
   "outputs": [],
   "source": [
    "# In the documentation of this project, it is described how exactly the deviating event log is simulated\n",
    "# For simplicity purposes, the event log here has already been generated under data/deviating_event_log.csv\n",
    "import pandas as pd\n",
    "\n",
    "dataframe = pd.read_csv('data/deviating_event_log.csv', sep=',')\n",
    "dataframe = pm4py.format_dataframe(dataframe, case_id='case:concept:name', activity_key='concept:name', timestamp_key='time:timestamp')\n",
    "altered_event_log = pm4py.convert_to_event_log(dataframe)\n"
   ]
  },
  {
   "cell_type": "markdown",
   "metadata": {},
   "source": [
    "### Conformance checking"
   ]
  },
  {
   "cell_type": "code",
   "execution_count": null,
   "metadata": {},
   "outputs": [],
   "source": [
    "# Discovering a Petri net on the original event log\n",
    "petri_net, initial_markings, final_markings = pm4py.discovery.discover_petri_net_inductive(filtered_sales_df, activity_key='concept:name', case_id_key='case:concept:name', timestamp_key='time:timestamp')\n",
    "\n",
    "# Replaying the altered event log against the original petri net\n",
    "replayed_traces = pm4py.conformance_diagnostics_token_based_replay(altered_event_log, filtered_sales_df, initial_markings, final_markings)\n",
    "replayed_traces"
   ]
  },
  {
   "cell_type": "markdown",
   "metadata": {},
   "source": [
    "### Statistics"
   ]
  },
  {
   "cell_type": "code",
   "execution_count": null,
   "metadata": {},
   "outputs": [],
   "source": [
    "# Event distribution graph\n",
    "pm4py.view_events_distribution_graph(filtered_sales_df, distr_type=\"months\", format=\"png\")"
   ]
  },
  {
   "cell_type": "code",
   "execution_count": null,
   "metadata": {},
   "outputs": [],
   "source": [
    "# Case arrival and case dispersion ratio\n",
    "from pm4py.statistics.traces.generic.log import case_arrival\n",
    "\n",
    "case_arrival_ratio = pm4py.get_case_arrival_average(filtered_sales_df)\n",
    "case_dispersion_ratio = case_arrival.get_case_dispersion_avg(filtered_sales_df, parameters={case_arrival.Parameters.TIMESTAMP_KEY: \"time:timestamp\"})\n",
    "\n",
    "print(\"Case arrival ratio:\", case_arrival_ratio)\n",
    "print(\"Case dispersion ratio:\", case_dispersion_ratio)"
   ]
  }
 ],
 "metadata": {
  "kernelspec": {
   "display_name": "Python 3",
   "language": "python",
   "name": "python3"
  },
  "language_info": {
   "codemirror_mode": {
    "name": "ipython",
    "version": 3
   },
   "file_extension": ".py",
   "mimetype": "text/x-python",
   "name": "python",
   "nbconvert_exporter": "python",
   "pygments_lexer": "ipython3",
   "version": "3.12.3"
  }
 },
 "nbformat": 4,
 "nbformat_minor": 2
}
