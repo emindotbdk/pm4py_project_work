{
 "cells": [
  {
   "cell_type": "markdown",
   "metadata": {},
   "source": [
    "# Import"
   ]
  },
  {
   "cell_type": "code",
   "execution_count": null,
   "metadata": {},
   "outputs": [],
   "source": [
    "# Importing pm4py and loading the event log\n",
    "\n",
    "import pm4py\n",
    "import pandas as pd\n",
    "\n",
    "print(\"Loading event log...\")\n",
    "incident_df = pm4py.read.read_xes(\"./data/BPI_Challenge_2013_incidents.xes\")\n",
    "\n",
    "filtered_log = pm4py.filter_variants_top_k(incident_df, 5)"
   ]
  },
  {
   "cell_type": "markdown",
   "metadata": {},
   "source": [
    "# Process Discovery"
   ]
  },
  {
   "cell_type": "code",
   "execution_count": null,
   "metadata": {},
   "outputs": [],
   "source": [
    "# Petri net discovery and visualization\n",
    "incident_petri_net, initial_markings, final_markings = pm4py.discovery.discover_petri_net_inductive(filtered_log, activity_key='concept:name', case_id_key='case:concept:name', timestamp_key='time:timestamp')\n",
    "pm4py.vis.view_petri_net(incident_petri_net, initial_markings, final_markings, format='png')"
   ]
  },
  {
   "cell_type": "code",
   "execution_count": null,
   "metadata": {},
   "outputs": [],
   "source": [
    "# Process tree discovery and visualization\n",
    "incident_process_tree = pm4py.discover_process_tree_inductive(filtered_log)\n",
    "pm4py.view_process_tree(incident_process_tree, format='png')"
   ]
  },
  {
   "cell_type": "code",
   "execution_count": null,
   "metadata": {},
   "outputs": [],
   "source": [
    "# Directly-follows graph discovery and visualization\n",
    "incident_dfg, start_act, end_act = pm4py.discover_dfg(filtered_log, activity_key='concept:name', case_id_key='case:concept:name', timestamp_key='time:timestamp')\n",
    "pm4py.view_dfg(incident_dfg, start_act, end_act, format='png')"
   ]
  },
  {
   "cell_type": "code",
   "execution_count": null,
   "metadata": {},
   "outputs": [],
   "source": [
    "# BPMN dicovery and visualization\n",
    "incident_bpmn = pm4py.discover_bpmn_inductive(filtered_log, activity_key='concept:name', case_id_key='case:concept:name', timestamp_key='time:timestamp')\n",
    "pm4py.view_bpmn(incident_bpmn, format='png')\n"
   ]
  },
  {
   "cell_type": "markdown",
   "metadata": {},
   "source": [
    "# Conformance checking"
   ]
  },
  {
   "cell_type": "code",
   "execution_count": null,
   "metadata": {},
   "outputs": [],
   "source": [
    "# Token-based replay\n",
    "replayed_traces = pm4py.conformance_diagnostics_token_based_replay(filtered_log, incident_petri_net, initial_markings, final_markings)\n",
    "replayed_traces"
   ]
  },
  {
   "cell_type": "code",
   "execution_count": null,
   "metadata": {},
   "outputs": [],
   "source": [
    "# Alignment-based replay\n",
    "aligned_traces = pm4py.conformance_diagnostics_alignments(filtered_log, incident_petri_net, initial_markings, final_markings)\n",
    "aligned_traces"
   ]
  },
  {
   "cell_type": "code",
   "execution_count": null,
   "metadata": {},
   "outputs": [],
   "source": [
    "# Footprints\n",
    "from pm4py.visualization.footprints import visualizer as fp_visualizer\n",
    "from pm4py.algo.discovery.footprints import algorithm as fp_discovery\n",
    "\n",
    "footprints_net = fp_discovery.apply(incident_petri_net, initial_markings, final_markings)\n",
    "gviz = fp_visualizer.apply(footprints_net, parameters={fp_visualizer.Variants.SINGLE.value.Parameters.FORMAT: \"png\"})\n",
    "fp_visualizer.view(gviz)"
   ]
  },
  {
   "cell_type": "code",
   "execution_count": null,
   "metadata": {},
   "outputs": [],
   "source": [
    "# Log skeleton\n",
    "from pm4py.algo.discovery.log_skeleton import algorithm as lsk_discovery\n",
    "from pm4py.algo.conformance.log_skeleton import algorithm as lsk_conformance\n",
    "\n",
    "skeleton = lsk_discovery.apply(filtered_log, parameters={lsk_discovery.Variants.CLASSIC.value.Parameters.NOISE_THRESHOLD: 0.0})\n",
    "conf_result = lsk_conformance.apply(filtered_log, skeleton)\n",
    "conf_result"
   ]
  },
  {
   "cell_type": "code",
   "execution_count": null,
   "metadata": {},
   "outputs": [],
   "source": [
    "# DECLARE model\n",
    "declare_model = pm4py.discover_declare(filtered_log)\n",
    "conf_result = pm4py.conformance_declare(filtered_log, declare_model)\n",
    "conf_result"
   ]
  },
  {
   "cell_type": "code",
   "execution_count": null,
   "metadata": {},
   "outputs": [],
   "source": [
    "# Temporal profile\n",
    "from pm4py.algo.discovery.temporal_profile import algorithm as temporal_profile_discovery\n",
    "from pm4py.algo.conformance.temporal_profile import algorithm as temporal_profile_conformance\n",
    "\n",
    "temporal_profile = temporal_profile_discovery.apply(filtered_log)\n",
    "temporal_results = temporal_profile_conformance.apply(filtered_log, temporal_profile)\n",
    "temporal_results"
   ]
  },
  {
   "cell_type": "markdown",
   "metadata": {},
   "source": [
    "# Statistics"
   ]
  },
  {
   "cell_type": "code",
   "execution_count": null,
   "metadata": {},
   "outputs": [],
   "source": [
    "# Troughput time\n",
    "all_cases_duration = pm4py.get_all_case_durations(filtered_log)\n",
    "all_cases_duration"
   ]
  },
  {
   "cell_type": "code",
   "execution_count": null,
   "metadata": {},
   "outputs": [],
   "source": [
    "# Case arrival and case dispersion ratio\n",
    "from pm4py.statistics.traces.generic.log import case_arrival\n",
    "\n",
    "case_arrival_ratio = pm4py.get_case_arrival_average(filtered_log)\n",
    "case_dispersion_ratio = case_arrival.get_case_dispersion_avg(filtered_log)\n",
    "\n",
    "print(\"Arrival ratio:\", case_arrival_ratio)\n",
    "print(\"Disperion ratio:\", case_dispersion_ratio)"
   ]
  },
  {
   "cell_type": "code",
   "execution_count": null,
   "metadata": {},
   "outputs": [],
   "source": [
    "# Eventually-follows graph\n",
    "efg_graph = pm4py.discover_eventually_follows_graph(filtered_log)\n",
    "efg_graph"
   ]
  },
  {
   "cell_type": "code",
   "execution_count": null,
   "metadata": {},
   "outputs": [],
   "source": [
    "# Case duration\n",
    "from pm4py.util import constants\n",
    "from pm4py.statistics.traces.generic.log import case_statistics\n",
    "from pm4py.visualization.graphs import visualizer as graphs_visualizer\n",
    "\n",
    "x, y = case_statistics.get_kde_caseduration(filtered_log, parameters={constants.PARAMETER_CONSTANT_TIMESTAMP_KEY: \"time:timestamp\"})\n",
    "\n",
    "gviz = graphs_visualizer.apply_plot(x, y, variant=graphs_visualizer.Variants.CASES)\n",
    "graphs_visualizer.view(gviz)"
   ]
  },
  {
   "cell_type": "code",
   "execution_count": null,
   "metadata": {},
   "outputs": [],
   "source": [
    "# Event distribution\n",
    "pm4py.view_events_distribution_graph(filtered_log, distr_type=\"months\", format=\"png\")"
   ]
  },
  {
   "cell_type": "markdown",
   "metadata": {},
   "source": [
    "# Evaluation"
   ]
  },
  {
   "cell_type": "code",
   "execution_count": null,
   "metadata": {},
   "outputs": [],
   "source": [
    "# Replay fitness\n",
    "fitness_token_based = pm4py.fitness_token_based_replay(filtered_log, incident_petri_net, initial_markings, final_markings)\n",
    "fitness_alignment_based = pm4py.fitness_alignments(filtered_log, incident_petri_net, initial_markings, final_markings)\n",
    "\n",
    "print(\"Fitness token based\")\n",
    "print(fitness_token_based)\n",
    "\n",
    "print(\"Fitness alignment based\")\n",
    "print(fitness_alignment_based)"
   ]
  },
  {
   "cell_type": "code",
   "execution_count": null,
   "metadata": {},
   "outputs": [],
   "source": [
    "# Precision\n",
    "precision_et_conformance = pm4py.precision_token_based_replay(filtered_log, incident_petri_net, initial_markings, final_markings)\n",
    "precision_align_et_conformance = pm4py.precision_alignments(filtered_log, incident_petri_net, initial_markings, final_markings)\n",
    "\n",
    "print(\"Precision ETConformance:\", precision_et_conformance)\n",
    "print(\"Precision Alignment-ETConformance\", precision_align_et_conformance)"
   ]
  },
  {
   "cell_type": "code",
   "execution_count": null,
   "metadata": {},
   "outputs": [],
   "source": [
    "# Generalization\n",
    "from pm4py.algo.evaluation.generalization import algorithm as generalization_evaluator\n",
    "\n",
    "generalization = generalization_evaluator.apply(filtered_log, incident_petri_net, initial_markings, final_markings)\n",
    "\n",
    "print(\"Generalization:\", generalization)"
   ]
  },
  {
   "cell_type": "code",
   "execution_count": null,
   "metadata": {},
   "outputs": [],
   "source": [
    "# Simplicity\n",
    "from pm4py.algo.evaluation.simplicity import algorithm as simplicity_evaluator\n",
    "\n",
    "simplicity = simplicity_evaluator.apply(incident_petri_net)\n",
    "\n",
    "print(\"Simplicity:\", simplicity)"
   ]
  },
  {
   "cell_type": "markdown",
   "metadata": {},
   "source": [
    "# Simulation"
   ]
  },
  {
   "cell_type": "code",
   "execution_count": null,
   "metadata": {},
   "outputs": [],
   "source": [
    "# Playout of a Petri net\n",
    "from pm4py.algo.simulation.playout.petri_net import algorithm as simulator\n",
    "\n",
    "simulated_log = simulator.apply(incident_petri_net, initial_markings, variant=simulator.Variants.BASIC_PLAYOUT, parameters={simulator.Variants.BASIC_PLAYOUT.value.Parameters.NO_TRACES: 50})\n",
    "\n",
    "# Conversion to data frame has been added for better visualization of the result\n",
    "simulated_df = pm4py.convert_to_dataframe(simulated_log)\n",
    "simulated_df"
   ]
  },
  {
   "cell_type": "markdown",
   "metadata": {},
   "source": [
    "# Social Network Analysis"
   ]
  },
  {
   "cell_type": "code",
   "execution_count": null,
   "metadata": {},
   "outputs": [],
   "source": [
    "# Handover of work\n",
    "handover_of_work_metric = pm4py.discover_handover_of_work_network(filtered_log)\n",
    "\n",
    "pm4py.view_sna(handover_of_work_metric)\n",
    "# view_sna will generate a html file \"jupyter_sna_vis.html\" which has to be opened in the browser"
   ]
  },
  {
   "cell_type": "code",
   "execution_count": null,
   "metadata": {},
   "outputs": [],
   "source": [
    "# Subcontracting\n",
    "sub_values = pm4py.discover_subcontracting_network(filtered_log)\n",
    "\n",
    "pm4py.view_sna(sub_values)\n",
    "# view_sna will generate a html file \"jupyter_sna_vis.html\" which has to be opened in the browser"
   ]
  },
  {
   "cell_type": "code",
   "execution_count": null,
   "metadata": {},
   "outputs": [],
   "source": [
    "# Working together\n",
    "wt_values = pm4py.discover_working_together_network(filtered_log)\n",
    "\n",
    "pm4py.view_sna(wt_values)\n",
    "# view_sna will generate a html file \"jupyter_sna_vis.html\" which has to be opened in the browser"
   ]
  },
  {
   "cell_type": "code",
   "execution_count": null,
   "metadata": {},
   "outputs": [],
   "source": [
    "# Similar activities\n",
    "similar_values = pm4py.discover_activity_based_resource_similarity(filtered_log)\n",
    "\n",
    "pm4py.view_sna(similar_values)\n",
    "# view_sna will generate a html file \"jupyter_sna_vis.html\" which has to be opened in the browser"
   ]
  }
 ],
 "metadata": {
  "kernelspec": {
   "display_name": "Python 3",
   "language": "python",
   "name": "python3"
  },
  "language_info": {
   "codemirror_mode": {
    "name": "ipython",
    "version": 3
   },
   "file_extension": ".py",
   "mimetype": "text/x-python",
   "name": "python",
   "nbconvert_exporter": "python",
   "pygments_lexer": "ipython3",
   "version": "3.12.3"
  }
 },
 "nbformat": 4,
 "nbformat_minor": 2
}
